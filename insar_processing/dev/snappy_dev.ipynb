{
 "cells": [
  {
   "cell_type": "code",
   "execution_count": 1,
   "metadata": {
    "tags": []
   },
   "outputs": [
    {
     "name": "stderr",
     "output_type": "stream",
     "text": [
      "INFO: org.esa.snap.core.gpf.operators.tooladapter.ToolAdapterIO: Initializing external tool adapters\n",
      "INFO: org.esa.s2tbx.dataio.gdal.GDALVersion: Incompatible GDAL 3.6.2 found on system. Internal GDAL 3.0.0 from distribution will be used.\n",
      "INFO: org.esa.s2tbx.dataio.gdal.GDALVersion: Internal GDAL 3.0.0 set to be used by SNAP.\n",
      "INFO: org.esa.snap.core.util.EngineVersionCheckActivator: Please check regularly for new updates for the best SNAP experience.\n",
      "WARNING: org.esa.snap.core.util.EngineVersionCheckActivator: A new SNAP version is available for download.\n",
      "Currently installed 8.0, available is 9.0.0.\n",
      "Please visit http://step.esa.int\n",
      "\n"
     ]
    }
   ],
   "source": [
    "from pathlib import Path\n",
    "import sys\n",
    "\n",
    "sys.path.append('..')\n",
    "from src.processing_utils import *"
   ]
  },
  {
   "cell_type": "code",
   "execution_count": 2,
   "metadata": {
    "tags": []
   },
   "outputs": [],
   "source": [
    "# Specifying Input Filepaths\n",
    "work_dir = Path('/data/S1_InSAR_Juukan/')\n",
    "filepath_1 = Path(work_dir, 'data_raw', 'S1B_IW_SLC__1SDV_20200516T213951_20200516T214019_021612_029081_ACBD.zip')\n",
    "filepath_2 = Path(work_dir, 'data_raw', 'S1B_IW_SLC__1SDV_20200528T213952_20200528T214019_021787_0295B1_17C1.zip')"
   ]
  },
  {
   "cell_type": "code",
   "execution_count": 3,
   "metadata": {
    "tags": []
   },
   "outputs": [
    {
     "name": "stderr",
     "output_type": "stream",
     "text": [
      "INFO: org.esa.s2tbx.dataio.gdal.GDALVersion: Internal GDAL 3.0.0 set to be used by SNAP.\n"
     ]
    }
   ],
   "source": [
    "# Reading in Files with SNAP\n",
    "product_1, product_2 = read_products(filepath_1, filepath_2)"
   ]
  },
  {
   "cell_type": "markdown",
   "metadata": {},
   "source": [
    "# INSAR Stack Overview\n",
    "\n",
    "For best results, the Temporal Baseline should be between 6 - 12 days and the Perpendicular Baseline should be between 150 - 300 m."
   ]
  },
  {
   "cell_type": "code",
   "execution_count": 4,
   "metadata": {
    "tags": []
   },
   "outputs": [
    {
     "name": "stdout",
     "output_type": "stream",
     "text": [
      "Perpendicular Baseline = -66.80 m\n",
      "Temporal Baseline = 12.00 days\n"
     ]
    }
   ],
   "source": [
    "perpendicular_baseline, temporal_baseline = insar_stack_overview(product_1, product_2)\n",
    "\n",
    "print(f\"Perpendicular Baseline = {perpendicular_baseline:.2f} m\")\n",
    "print(f\"Temporal Baseline = {temporal_baseline:.2f} days\")"
   ]
  },
  {
   "cell_type": "markdown",
   "metadata": {},
   "source": [
    "# TOPSAR Split\n",
    "Will need to inspect the image products to select the correct bursts for the area of interest."
   ]
  },
  {
   "cell_type": "code",
   "execution_count": 5,
   "metadata": {},
   "outputs": [
    {
     "name": "stdout",
     "output_type": "stream",
     "text": [
      "Loaded ZIP file: S1B_IW_SLC__1SDV_20200516T213951_20200516T214019_021612_029081_ACBD.zip\n",
      "Loaded location grid with 10 bursts and 231 coordinates\n",
      "Found 6 XML paths\n",
      "Loaded ZIP file: S1B_IW_SLC__1SDV_20200528T213952_20200528T214019_021787_0295B1_17C1.zip\n",
      "Found 6 XML paths\n",
      "{'IW2': {'product_1': (6, 7), 'product_2': (6, 7)}, 'IW1': {'product_1': (6, 8), 'product_2': (6, 8)}}\n"
     ]
    }
   ],
   "source": [
    "aoi = [117.02734629478383, -22.493086973432593, 117.31898748693916, -22.649316075632846]\n",
    "subswath_bursts = get_subswath_burst(filepath_1, filepath_2, aoi)\n",
    "\n",
    "print(subswath_bursts)"
   ]
  },
  {
   "cell_type": "code",
   "execution_count": 6,
   "metadata": {
    "tags": []
   },
   "outputs": [
    {
     "name": "stdout",
     "output_type": "stream",
     "text": [
      "\n",
      "100% done.\n",
      "\n"
     ]
    },
    {
     "name": "stderr",
     "output_type": "stream",
     "text": [
      "INFO: org.hsqldb.persist.Logger: dataFileCache open start\n"
     ]
    },
    {
     "name": "stdout",
     "output_type": "stream",
     "text": [
      "100% done.\n"
     ]
    }
   ],
   "source": [
    "topsar_split_1 = topsar_split(product_1, 'IW2', 6, 7)\n",
    "topsar_split_2 = topsar_split(product_2, 'IW2', 6, 7)"
   ]
  },
  {
   "cell_type": "markdown",
   "metadata": {},
   "source": [
    "# Apply Orbit File"
   ]
  },
  {
   "cell_type": "code",
   "execution_count": 7,
   "metadata": {
    "tags": []
   },
   "outputs": [
    {
     "name": "stdout",
     "output_type": "stream",
     "text": [
      "\n",
      "100% done.\n",
      "\n",
      "100% done.\n"
     ]
    }
   ],
   "source": [
    "orbit_1 = apply_orbit_file(topsar_split_1)\n",
    "orbit_2 = apply_orbit_file(topsar_split_2)"
   ]
  },
  {
   "cell_type": "markdown",
   "metadata": {},
   "source": [
    "# Back Geocoding"
   ]
  },
  {
   "cell_type": "code",
   "execution_count": 8,
   "metadata": {
    "tags": []
   },
   "outputs": [
    {
     "name": "stdout",
     "output_type": "stream",
     "text": [
      "\n",
      "100% done.\n"
     ]
    }
   ],
   "source": [
    "back_geocoded = back_geocoding(orbit_1, orbit_2)"
   ]
  },
  {
   "cell_type": "markdown",
   "metadata": {},
   "source": [
    "# Enhanced Spectral Diversity\n",
    "Only required if more than one burst was selected in the TOPS Split step."
   ]
  },
  {
   "cell_type": "code",
   "execution_count": 9,
   "metadata": {
    "tags": []
   },
   "outputs": [],
   "source": [
    "esd = enhanced_spectral_diversity(back_geocoded)"
   ]
  },
  {
   "cell_type": "code",
   "execution_count": 10,
   "metadata": {},
   "outputs": [
    {
     "name": "stderr",
     "output_type": "stream",
     "text": [
      "INFO: org.esa.s1tbx.sentinel1.gpf.SpectralDiversityOp: Shifts written to file: /home/ubuntu/mambaforge/envs/snap-8/snap/.snap/var/log/IW2_range_shifts.json\n",
      "INFO: org.esa.s1tbx.sentinel1.gpf.SpectralDiversityOp: Estimating azimuth offset for blocks in overlap: 1/1\n",
      "INFO: org.esa.s1tbx.sentinel1.gpf.SpectralDiversityOp: Shifts written to file: /home/ubuntu/mambaforge/envs/snap-8/snap/.snap/var/log/IW2_azimuth_shifts.json\n"
     ]
    }
   ],
   "source": [
    "# Suggested to output the 'Phase_ifg_IW2_VV_08Jul2019_02Jul2019' and 'Phase_ifg_IW2_VV_08Jul2019_02Jul2019' bands as RGB images for inspection at this step for verification before proceeding.\n",
    "rgb_image_path = Path(\n",
    "                work_dir,\n",
    "                f\"{filepath_1.stem[:25]}_{filepath_2.stem[33:41]}_split_Orb_Stack_esd.png\",\n",
    "            )\n",
    "write_rgb_image(esd, rgb_image_path)"
   ]
  },
  {
   "cell_type": "markdown",
   "metadata": {},
   "source": [
    "# Interferogram\n",
    "\n",
    "If generating Digital Elevation Models, set 'Subtract Topographic Phase' to False.\n",
    "Otherwise if you are interested in Surface Displacement, set 'Subtract Topographic Phase' to True."
   ]
  },
  {
   "cell_type": "code",
   "execution_count": 11,
   "metadata": {
    "tags": []
   },
   "outputs": [
    {
     "name": "stdout",
     "output_type": "stream",
     "text": [
      "\n",
      "100% done.\n"
     ]
    }
   ],
   "source": [
    "interfero = interferogram(esd, False)"
   ]
  },
  {
   "cell_type": "markdown",
   "metadata": {},
   "source": [
    "# TOPS Deburst"
   ]
  },
  {
   "cell_type": "code",
   "execution_count": 12,
   "metadata": {
    "tags": []
   },
   "outputs": [
    {
     "name": "stdout",
     "output_type": "stream",
     "text": [
      "\n",
      "100% done.\n"
     ]
    }
   ],
   "source": [
    "deburst = tops_deburst(interfero)"
   ]
  },
  {
   "cell_type": "markdown",
   "metadata": {},
   "source": [
    "# Goldstein Filtering"
   ]
  },
  {
   "cell_type": "code",
   "execution_count": 13,
   "metadata": {
    "tags": []
   },
   "outputs": [
    {
     "name": "stdout",
     "output_type": "stream",
     "text": [
      "\n",
      "100% done.\n"
     ]
    }
   ],
   "source": [
    "filtered = goldstein_phase_filtering(deburst)"
   ]
  },
  {
   "cell_type": "markdown",
   "metadata": {},
   "source": [
    "# Multilooking"
   ]
  },
  {
   "cell_type": "code",
   "execution_count": 14,
   "metadata": {
    "tags": []
   },
   "outputs": [
    {
     "name": "stdout",
     "output_type": "stream",
     "text": [
      "\n",
      "100% done.\n"
     ]
    }
   ],
   "source": [
    "multilook = multilooking(filtered)"
   ]
  },
  {
   "cell_type": "markdown",
   "metadata": {},
   "source": [
    "# Saving the Product"
   ]
  },
  {
   "cell_type": "code",
   "execution_count": 15,
   "metadata": {
    "tags": []
   },
   "outputs": [
    {
     "name": "stdout",
     "output_type": "stream",
     "text": [
      "Successfully saved: \"/data/S1_InSAR_Juukan/Temp/S1B_IW_SLC__1SDV_20200516_20200528_split_Orb_Stack_esd_ifg_deb_flt_ML.dim\"\n",
      "Elapsed time: 37.72 seconds\n"
     ]
    }
   ],
   "source": [
    "pre_snaphu_path = Path(\n",
    "    work_dir, 'Temp',\n",
    "    f\"{filepath_1.stem[:25]}_{filepath_2.stem[33:41]}_split_Orb_Stack_esd_ifg_deb_flt_ML.dim\",\n",
    ")\n",
    "write_product(\n",
    "    product=multilook, filepath=pre_snaphu_path, fileformat=\"BEAM-DIMAP\"\n",
    ")"
   ]
  },
  {
   "attachments": {},
   "cell_type": "markdown",
   "metadata": {},
   "source": [
    "# SNAPHU Export\n",
    "\n",
    "Known issue with SNAP 8/9 where SNAPHU Export does not work within SNAPPY.\n",
    "https://forum.step.esa.int/t/snaphu-export-in-snap-8-rises-indexoutofboundsexception/29278\n",
    "\n",
    "Required to fall back to SNAP 7 or use SNAP GPT.\n",
    "\n",
    "Set the StatCostMethod to TOPO for Elevation or DEFO for Displacement."
   ]
  },
  {
   "cell_type": "code",
   "execution_count": 16,
   "metadata": {},
   "outputs": [],
   "source": [
    "snaphu_export_dir = Path(work_dir, 'Temp/')"
   ]
  },
  {
   "cell_type": "code",
   "execution_count": 17,
   "metadata": {},
   "outputs": [
    {
     "name": "stderr",
     "output_type": "stream",
     "text": [
      "INFO: org.esa.snap.core.gpf.operators.tooladapter.ToolAdapterIO: Initializing external tool adapters\n",
      "INFO: org.esa.s2tbx.dataio.gdal.GDALVersion: Incompatible GDAL 3.6.2 found on system. Internal GDAL 3.0.0 from distribution will be used.\n",
      "INFO: org.esa.s2tbx.dataio.gdal.GDALVersion: Internal GDAL 3.0.0 set to be used by SNAP.\n",
      "INFO: org.esa.snap.core.util.EngineVersionCheckActivator: Please check regularly for new updates for the best SNAP experience.\n",
      "WARNING: org.esa.snap.core.util.EngineVersionCheckActivator: A new SNAP version is available for download.\n",
      "Currently installed 8.0, available is 9.0.0.\n",
      "Please visit http://step.esa.int\n",
      "\n",
      "INFO: org.esa.s2tbx.dataio.gdal.GDALVersion: Internal GDAL 3.0.0 set to be used by SNAP.\n",
      "INFO: org.hsqldb.persist.Logger: dataFileCache open start\n"
     ]
    },
    {
     "name": "stdout",
     "output_type": "stream",
     "text": [
      "Executing operator...\n",
      "20%....30%....40%....50%....60%....70%....80%....90%.... done.\n"
     ]
    },
    {
     "name": "stderr",
     "output_type": "stream",
     "text": [
      "-- org.jblas INFO Deleting /tmp/jblas1063937971876981473/libquadmath-0.so\n",
      "-- org.jblas INFO Deleting /tmp/jblas1063937971876981473/libgfortran-4.so\n",
      "-- org.jblas INFO Deleting /tmp/jblas1063937971876981473/libjblas_arch_flavor.so\n",
      "-- org.jblas INFO Deleting /tmp/jblas1063937971876981473/libjblas.so\n",
      "-- org.jblas INFO Deleting /tmp/jblas1063937971876981473\n"
     ]
    }
   ],
   "source": [
    "snaphu_exported = snaphu_export_gpt(filepath=pre_snaphu_path, targetfolder=snaphu_export_dir, statcostmode = 'TOPO', initmethod='MST', numprocessors=8)"
   ]
  },
  {
   "attachments": {},
   "cell_type": "markdown",
   "metadata": {},
   "source": [
    "# SNAPHU Unwrapping"
   ]
  },
  {
   "cell_type": "code",
   "execution_count": 18,
   "metadata": {},
   "outputs": [],
   "source": [
    "snaphu_export_path = Path(snaphu_export_dir, pre_snaphu_path.stem)"
   ]
  },
  {
   "cell_type": "code",
   "execution_count": 19,
   "metadata": {
    "tags": []
   },
   "outputs": [
    {
     "name": "stdout",
     "output_type": "stream",
     "text": [
      "\n",
      "snaphu v2.0.5\n",
      "27 parameters input from file snaphu.conf (84 lines total)\n"
     ]
    },
    {
     "name": "stderr",
     "output_type": "stream",
     "text": [
      "WARNING: Tile overlap is small (may give bad results)\n"
     ]
    },
    {
     "name": "stdout",
     "output_type": "stream",
     "text": [
      "Logging run-time parameters to file snaphu.log\n",
      "Creating temporary directory snaphu_tiles_238015\n",
      "Unwrapping tile at row 0, column 0 (pid 238021)\n",
      "Unwrapping tile at row 0, column 1 (pid 238024)\n",
      "Unwrapping tile at row 0, column 2 (pid 238025)\n",
      "Unwrapping tile at row 0, column 3 (pid 238038)\n",
      "Unwrapping tile at row 0, column 4 (pid 238044)\n",
      "Unwrapping tile at row 0, column 5 (pid 238048)\n",
      "Unwrapping tile at row 0, column 6 (pid 238049)\n",
      "Unwrapping tile at row 0, column 7 (pid 238050)\n",
      "Unwrapping tile at row 0, column 8 (pid 238061)\n",
      "Unwrapping tile at row 0, column 9 (pid 238067)\n",
      "Unwrapping tile at row 1, column 0 (pid 238071)\n",
      "Unwrapping tile at row 1, column 1 (pid 238073)\n",
      "Unwrapping tile at row 1, column 2 (pid 238074)\n",
      "Unwrapping tile at row 1, column 3 (pid 238085)\n",
      "Unwrapping tile at row 1, column 4 (pid 238091)\n",
      "Unwrapping tile at row 1, column 5 (pid 238095)\n",
      "Unwrapping tile at row 1, column 6 (pid 238096)\n",
      "Unwrapping tile at row 1, column 7 (pid 238097)\n",
      "Unwrapping tile at row 1, column 8 (pid 238108)\n",
      "Unwrapping tile at row 1, column 9 (pid 238114)\n",
      "Unwrapping tile at row 2, column 0 (pid 238118)\n",
      "Unwrapping tile at row 2, column 1 (pid 238119)\n",
      "Unwrapping tile at row 2, column 2 (pid 238120)\n",
      "Unwrapping tile at row 2, column 3 (pid 238131)\n",
      "Unwrapping tile at row 2, column 4 (pid 238137)\n",
      "Unwrapping tile at row 2, column 5 (pid 238141)\n",
      "Unwrapping tile at row 2, column 6 (pid 238142)\n",
      "Unwrapping tile at row 2, column 7 (pid 238143)\n",
      "Unwrapping tile at row 2, column 8 (pid 238154)\n",
      "Unwrapping tile at row 2, column 9 (pid 238160)\n",
      "Unwrapping tile at row 3, column 0 (pid 238164)\n",
      "Unwrapping tile at row 3, column 1 (pid 238165)\n",
      "Unwrapping tile at row 3, column 2 (pid 238166)\n",
      "Unwrapping tile at row 3, column 3 (pid 238177)\n",
      "Unwrapping tile at row 3, column 4 (pid 238183)\n",
      "Unwrapping tile at row 3, column 5 (pid 238187)\n",
      "Unwrapping tile at row 3, column 6 (pid 238188)\n",
      "Unwrapping tile at row 3, column 7 (pid 238189)\n",
      "Unwrapping tile at row 3, column 8 (pid 238200)\n",
      "Unwrapping tile at row 3, column 9 (pid 238206)\n",
      "Unwrapping tile at row 4, column 0 (pid 238210)\n",
      "Unwrapping tile at row 4, column 1 (pid 238211)\n",
      "Unwrapping tile at row 4, column 2 (pid 238212)\n",
      "Unwrapping tile at row 4, column 3 (pid 238223)\n",
      "Unwrapping tile at row 4, column 4 (pid 238229)\n",
      "Unwrapping tile at row 4, column 5 (pid 238233)\n",
      "Unwrapping tile at row 4, column 6 (pid 238234)\n",
      "Unwrapping tile at row 4, column 7 (pid 238235)\n",
      "Unwrapping tile at row 4, column 8 (pid 238246)\n",
      "Unwrapping tile at row 4, column 9 (pid 238252)\n",
      "Unwrapping tile at row 5, column 0 (pid 238253)\n",
      "Unwrapping tile at row 5, column 1 (pid 238254)\n",
      "Unwrapping tile at row 5, column 2 (pid 238255)\n",
      "Unwrapping tile at row 5, column 3 (pid 238266)\n",
      "Unwrapping tile at row 5, column 4 (pid 238272)\n",
      "Unwrapping tile at row 5, column 5 (pid 238273)\n",
      "Unwrapping tile at row 5, column 6 (pid 238274)\n",
      "Unwrapping tile at row 5, column 7 (pid 238275)\n",
      "Unwrapping tile at row 5, column 8 (pid 238286)\n",
      "Unwrapping tile at row 5, column 9 (pid 238292)\n",
      "Unwrapping tile at row 6, column 0 (pid 238295)\n",
      "Unwrapping tile at row 6, column 1 (pid 238296)\n",
      "Unwrapping tile at row 6, column 2 (pid 238297)\n",
      "Unwrapping tile at row 6, column 3 (pid 238308)\n",
      "Unwrapping tile at row 6, column 4 (pid 238314)\n",
      "Unwrapping tile at row 6, column 5 (pid 238315)\n",
      "Unwrapping tile at row 6, column 6 (pid 238316)\n",
      "Unwrapping tile at row 6, column 7 (pid 238317)\n",
      "Unwrapping tile at row 6, column 8 (pid 238328)\n",
      "Unwrapping tile at row 6, column 9 (pid 238334)\n",
      "Unwrapping tile at row 7, column 0 (pid 238336)\n",
      "Unwrapping tile at row 7, column 1 (pid 238337)\n",
      "Unwrapping tile at row 7, column 2 (pid 238338)\n",
      "Unwrapping tile at row 7, column 3 (pid 238349)\n",
      "Unwrapping tile at row 7, column 4 (pid 238355)\n",
      "Unwrapping tile at row 7, column 5 (pid 238356)\n",
      "Unwrapping tile at row 7, column 6 (pid 238357)\n",
      "Unwrapping tile at row 7, column 7 (pid 238358)\n",
      "Unwrapping tile at row 7, column 8 (pid 238369)\n",
      "Unwrapping tile at row 7, column 9 (pid 238375)\n",
      "Unwrapping tile at row 8, column 0 (pid 238376)\n",
      "Unwrapping tile at row 8, column 1 (pid 238377)\n",
      "Unwrapping tile at row 8, column 2 (pid 238378)\n",
      "Unwrapping tile at row 8, column 3 (pid 238389)\n",
      "Unwrapping tile at row 8, column 4 (pid 238395)\n",
      "Unwrapping tile at row 8, column 5 (pid 238396)\n",
      "Unwrapping tile at row 8, column 6 (pid 238397)\n",
      "Unwrapping tile at row 8, column 7 (pid 238398)\n",
      "Unwrapping tile at row 8, column 8 (pid 238409)\n",
      "Unwrapping tile at row 8, column 9 (pid 238415)\n",
      "Unwrapping tile at row 9, column 0 (pid 238416)\n",
      "Unwrapping tile at row 9, column 1 (pid 238417)\n",
      "Unwrapping tile at row 9, column 2 (pid 238418)\n",
      "Unwrapping tile at row 9, column 3 (pid 238429)\n",
      "Unwrapping tile at row 9, column 4 (pid 238435)\n",
      "Unwrapping tile at row 9, column 5 (pid 238436)\n",
      "Unwrapping tile at row 9, column 6 (pid 238437)\n",
      "Unwrapping tile at row 9, column 7 (pid 238438)\n",
      "Unwrapping tile at row 9, column 8 (pid 238449)\n",
      "Unwrapping tile at row 9, column 9 (pid 238455)\n",
      "Assembling tiles\n",
      "Running optimizer for secondary network\n",
      "Number of nodes in secondary network: 5872\n",
      "Flow increment: 1  (Total improvements: 0)\n",
      "Treesize: 1          Pivots: 0           Improvements: 0        Treesize: 101        Pivots: 1           Improvements: 1        Treesize: 101        Pivots: 2           Improvements: 1        Treesize: 1271       Pivots: 3           Improvements: 2        Treesize: 1271       Pivots: 4           Improvements: 2        Treesize: 1356       Pivots: 5           Improvements: 2        Treesize: 1356       Pivots: 6           Improvements: 2        Treesize: 1361       Pivots: 7           Improvements: 2        Treesize: 1361       Pivots: 8           Improvements: 2        Treesize: 1366       Pivots: 9           Improvements: 2        Treesize: 1366       Pivots: 10          Improvements: 2        Treesize: 1371       Pivots: 11          Improvements: 2        Treesize: 1371       Pivots: 12          Improvements: 2        Treesize: 1376       Pivots: 13          Improvements: 2        Treesize: 1376       Pivots: 14          Improvements: 2        Treesize: 1381       Pivots: 15          Improvements: 2        Treesize: 1381       Pivots: 16          Improvements: 2        Treesize: 1386       Pivots: 17          Improvements: 2        Treesize: 1386       Pivots: 18          Improvements: 2        Treesize: 1391       Pivots: 19          Improvements: 2        Treesize: 1391       Pivots: 20          Improvements: 2        Treesize: 1396       Pivots: 21          Improvements: 2        Treesize: 1396       Pivots: 22          Improvements: 2        Treesize: 1401       Pivots: 23          Improvements: 2        Treesize: 1401       Pivots: 24          Improvements: 2        Treesize: 1406       Pivots: 25          Improvements: 2        Treesize: 1406       Pivots: 26          Improvements: 2        Treesize: 1411       Pivots: 27          Improvements: 2        Treesize: 1411       Pivots: 28          Improvements: 2        Treesize: 1416       Pivots: 29          Improvements: 2        Treesize: 1416       Pivots: 30          Improvements: 2        Treesize: 1421       Pivots: 31          Improvements: 2        Treesize: 1421       Pivots: 32          Improvements: 2        Treesize: 1426       Pivots: 33          Improvements: 2        Treesize: 1426       Pivots: 34          Improvements: 2        Treesize: 1431       Pivots: 35          Improvements: 2        Treesize: 1431       Pivots: 36          Improvements: 3        Treesize: 1431       Pivots: 37          Improvements: 3        Treesize: 1436       Pivots: 38          Improvements: 4        Treesize: 1441       Pivots: 39          Improvements: 5        Treesize: 1446       Pivots: 40          Improvements: 6        Treesize: 1451       Pivots: 41          Improvements: 7        Treesize: 1456       Pivots: 42          Improvements: 8        Treesize: 1461       Pivots: 43          Improvements: 9        Treesize: 1466       Pivots: 44          Improvements: 10       Treesize: 1471       Pivots: 45          Improvements: 11       Treesize: 1476       Pivots: 46          Improvements: 12       Treesize: 1481       Pivots: 47          Improvements: 13       Treesize: 1486       Pivots: 48          Improvements: 14       Treesize: 1491       Pivots: 49          Improvements: 15       Treesize: 1496       Pivots: 50          Improvements: 16       Treesize: 1501       Pivots: 51          Improvements: 17       Treesize: 1506       Pivots: 52          Improvements: 18       Treesize: 1511       Pivots: 53          Improvements: 19       Treesize: 1516       Pivots: 54          Improvements: 20       Treesize: 1521       Pivots: 55          Improvements: 21       Treesize: 1526       Pivots: 56          Improvements: 22       Treesize: 1531       Pivots: 57          Improvements: 23       Treesize: 1531       Pivots: 58          Improvements: 23       Treesize: 1536       Pivots: 59          Improvements: 24       Treesize: 1536       Pivots: 69          Improvements: 24       Treesize: 1536       Pivots: 69          Improvements: 24       Treesize: 1541       Pivots: 70          Improvements: 25       Treesize: 1541       Pivots: 80          Improvements: 25       Treesize: 1541       Pivots: 80          Improvements: 25       Treesize: 1546       Pivots: 81          Improvements: 26       Treesize: 1546       Pivots: 84          Improvements: 26       Treesize: 1546       Pivots: 85          Improvements: 26       Treesize: 1551       Pivots: 86          Improvements: 27       Treesize: 1551       Pivots: 113         Improvements: 27       Treesize: 1551       Pivots: 118         Improvements: 27       Treesize: 1551       Pivots: 120         Improvements: 27       Treesize: 1551       Pivots: 122         Improvements: 27       Treesize: 1551       Pivots: 124         Improvements: 27       Treesize: 1551       Pivots: 126         Improvements: 27       Treesize: 1551       Pivots: 127         Improvements: 27       Treesize: 1551       Pivots: 128         Improvements: 27       Treesize: 1551       Pivots: 129         Improvements: 27       Treesize: 1551       Pivots: 130         Improvements: 27       Treesize: 1551       Pivots: 131         Improvements: 27       Treesize: 1551       Pivots: 132         Improvements: 27       Treesize: 4791       Pivots: 133         Improvements: 27       Treesize: 4806       Pivots: 135         Improvements: 27       Treesize: 4806       Pivots: 136         Improvements: 27       Treesize: 4811       Pivots: 139         Improvements: 27       Treesize: 4811       Pivots: 140         Improvements: 27       Treesize: 4811       Pivots: 141         Improvements: 27       Treesize: 4816       Pivots: 145         Improvements: 27       Treesize: 4816       Pivots: 147         Improvements: 27       Treesize: 4816       Pivots: 148         Improvements: 27       Treesize: 4821       Pivots: 152         Improvements: 27       Treesize: 4821       Pivots: 154         Improvements: 27       Treesize: 4821       Pivots: 155         Improvements: 27       Treesize: 4826       Pivots: 159         Improvements: 27       Treesize: 4826       Pivots: 161         Improvements: 27       Treesize: 4826       Pivots: 162         Improvements: 27       Treesize: 4831       Pivots: 166         Improvements: 27       Treesize: 4831       Pivots: 168         Improvements: 27       Treesize: 4836       Pivots: 172         Improvements: 27       Treesize: 4841       Pivots: 176         Improvements: 27       Treesize: 4846       Pivots: 180         Improvements: 27       Treesize: 4851       Pivots: 184         Improvements: 27       Treesize: 4856       Pivots: 188         Improvements: 27       Treesize: 4861       Pivots: 193         Improvements: 27       Treesize: 4866       Pivots: 198         Improvements: 27       Treesize: 4871       Pivots: 203         Improvements: 27       Treesize: 4876       Pivots: 208         Improvements: 27       Treesize: 4881       Pivots: 213         Improvements: 27       Treesize: 4886       Pivots: 218         Improvements: 27       Treesize: 4891       Pivots: 223         Improvements: 27       Treesize: 4896       Pivots: 228         Improvements: 27       Treesize: 4901       Pivots: 233         Improvements: 27       Treesize: 4906       Pivots: 238         Improvements: 27       Treesize: 4911       Pivots: 243         Improvements: 27       Treesize: 4916       Pivots: 246         Improvements: 27       Treesize: 5872       Pivots: 246         Improvements: 27         \n",
      "Flow increment: 2  (Total improvements: 27)\n",
      "Treesize: 1          Pivots: 0           Improvements: 0        Treesize: 5872       Pivots: 0           Improvements: 0          \n",
      "Flow increment: 3  (Total improvements: 27)\n",
      "Treesize: 1          Pivots: 0           Improvements: 0        Treesize: 5872       Pivots: 0           Improvements: 0          \n",
      "Flow increment: 4  (Total improvements: 27)\n",
      "Treesize: 1          Pivots: 0           Improvements: 0        Treesize: 5872       Pivots: 0           Improvements: 0          \n"
     ]
    },
    {
     "name": "stderr",
     "output_type": "stream",
     "text": [
      "356 incremental costs clipped to avoid overflow (0.018%)\n",
      "356 incremental costs clipped to avoid overflow (0.018%)\n",
      "356 incremental costs clipped to avoid overflow (0.018%)\n",
      "356 incremental costs clipped to avoid overflow (0.018%)\n"
     ]
    },
    {
     "name": "stdout",
     "output_type": "stream",
     "text": [
      "Integrating secondary flows\n",
      "Output written to file UnwPhase_ifg_IW2_VV_28May2020_16May2020.snaphu.img\n",
      "Removing temporary directory snaphu_tiles_238015\n",
      "SUGGESTION: Try increasing tile overlap and/or size if solution has edge artifacts\n",
      "Program snaphu done\n",
      "Elapsed processor time:   0:03:37.63\n",
      "Elapsed wall clock time:  0:01:46\n"
     ]
    }
   ],
   "source": [
    "unwrapped = snaphu_unwrapping(filepath=snaphu_export_path)"
   ]
  },
  {
   "attachments": {},
   "cell_type": "markdown",
   "metadata": {},
   "source": [
    "# SNAPHU Import"
   ]
  },
  {
   "cell_type": "code",
   "execution_count": 20,
   "metadata": {},
   "outputs": [
    {
     "name": "stdout",
     "output_type": "stream",
     "text": [
      "\n",
      "100% done.\n"
     ]
    }
   ],
   "source": [
    "snaphu_imported = snaphu_import(multilook, snaphu_export_path)"
   ]
  },
  {
   "attachments": {},
   "cell_type": "markdown",
   "metadata": {},
   "source": [
    "# Phase to Elevation"
   ]
  },
  {
   "cell_type": "code",
   "execution_count": 21,
   "metadata": {},
   "outputs": [
    {
     "name": "stdout",
     "output_type": "stream",
     "text": [
      "\n",
      "100% done.\n"
     ]
    }
   ],
   "source": [
    "elevation = phase_to_elevation(snaphu_imported)"
   ]
  },
  {
   "attachments": {},
   "cell_type": "markdown",
   "metadata": {},
   "source": [
    "# Terrain Correction"
   ]
  },
  {
   "cell_type": "code",
   "execution_count": 23,
   "metadata": {},
   "outputs": [
    {
     "name": "stdout",
     "output_type": "stream",
     "text": [
      "\n",
      "100% done.\n"
     ]
    }
   ],
   "source": [
    "terrain_corrected = terrain_correction(elevation, \"WGS84(DD)\", False)"
   ]
  },
  {
   "attachments": {},
   "cell_type": "markdown",
   "metadata": {},
   "source": [
    "# Saving Processed Product"
   ]
  },
  {
   "cell_type": "code",
   "execution_count": 24,
   "metadata": {},
   "outputs": [
    {
     "name": "stdout",
     "output_type": "stream",
     "text": [
      "Successfully saved: \"/data/S1_InSAR_Juukan/S1B_IW_SLC__1SDV_20200516_20200528_split_Orb_Stack_esd_ifg_deb_flt_ML_unw_phs_tc.tif\"\n",
      "Elapsed time: 16.69 seconds\n"
     ]
    }
   ],
   "source": [
    "processed_product_path = Path(\n",
    "    work_dir,\n",
    "    f\"{pre_snaphu_path.stem}_unw_phs_tc.tif\",\n",
    ")\n",
    "\n",
    "write_product(terrain_corrected, processed_product_path, 'GeoTIFF')"
   ]
  },
  {
   "cell_type": "code",
   "execution_count": 25,
   "metadata": {},
   "outputs": [
    {
     "name": "stdout",
     "output_type": "stream",
     "text": [
      "Successfully saved: \"/data/S1_InSAR_Juukan/S1B_IW_SLC__1SDV_20200516_20200528_split_Orb_Stack_esd_ifg_deb_flt_ML_unw_phs_tc.dim\"\n",
      "Elapsed time: 1.04 seconds\n"
     ]
    }
   ],
   "source": [
    "processed_product_path = Path(\n",
    "    work_dir,\n",
    "    f\"{pre_snaphu_path.stem}_unw_phs_tc.dim\",\n",
    ")\n",
    "\n",
    "write_product(terrain_corrected, processed_product_path, 'BEAM-DIMAP')"
   ]
  },
  {
   "cell_type": "code",
   "execution_count": null,
   "metadata": {},
   "outputs": [],
   "source": [
    "# parameters = HashMap()\n",
    "# parameters_snaphu = HashMap()\n",
    "# parameters_snaphu.put(“targetFolder”, str(temp_path))\n",
    "# inputfile = snappy.ProductIO.readProduct(str(product))\n",
    "# result_SNE = snappy.GPF.createProduct(“SnaphuExport”, parameters_snaphu, inputfile)\n",
    "# snappy.ProductIO.writeProduct(result_SNE, temp_path), “Snaphu”)\n",
    "\n",
    "# infile = temp_path / “snaphu.conf”\n",
    "# with open(str(infile)) as lines:\n",
    "# line = lines.readlines()[6]\n",
    "# snaphu_string = line[1:].strip()\n",
    "# snaphu_args = snaphu_string.split()\n",
    "# process = subprocess.Popen(snaphu_args, cwd=str(temp_path))\n",
    "# process.communicate()\n",
    "# process.wait()\n",
    "\n",
    "# unwrapped_list = glob.glob(str(temp_path)) + “/UnwPhase*.hdr”)\n",
    "# unwrapped_hdr = str(unwrapped_list[0])\n",
    "# unwrapped_read = snappy.ProductIO.readProduct(unwrapped_hdr)\n",
    "# snappy.ProductIO.writeProduct(unwrapped_read, str(temp_path / “unwrapped_read.dim”), “BEAM-DIMAP”)\n",
    "                                                  \n",
    "# unwrapped = snappy.ProductIO.readProduct(str(temp_path / “unwrapped_read.dim”))\n",
    "# snaphu_files = snappy.jpy.array(‘org.esa.snap.core.datamodel.Product’, 2)\n",
    "# snaphu_files[0] = inputfile\n",
    "# snaphu_files[1] = unwrapped\n",
    "# result_SI = snappy.GPF.createProduct(“SnaphuImport”, parameters , snaphu_files)\n",
    "# result_PD = snappy.GPF.createProduct(“PhaseToDisplacement”, parameters , result_SI)\n",
    "# snappy.ProductIO.writeProduct(result_PD, str(outpath), “BEAM-DIMAP”)"
   ]
  }
 ],
 "metadata": {
  "kernelspec": {
   "display_name": "snap-9",
   "language": "python",
   "name": "python3"
  },
  "language_info": {
   "codemirror_mode": {
    "name": "ipython",
    "version": 3
   },
   "file_extension": ".py",
   "mimetype": "text/x-python",
   "name": "python",
   "nbconvert_exporter": "python",
   "pygments_lexer": "ipython3",
   "version": "3.9.16"
  },
  "vscode": {
   "interpreter": {
    "hash": "e502020ff2fbedfbdad64c26426e66d5da7b1bea03de89bbb693ccd14544d320"
   }
  }
 },
 "nbformat": 4,
 "nbformat_minor": 4
}
