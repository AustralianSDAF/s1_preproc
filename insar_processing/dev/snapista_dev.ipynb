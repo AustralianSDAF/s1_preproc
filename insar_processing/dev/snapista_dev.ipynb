{
 "cells": [
  {
   "attachments": {},
   "cell_type": "markdown",
   "metadata": {},
   "source": [
    "# SNAPISTA Development Notebook\n",
    "\n",
    "This notebook attempts to implement the SNAPPY InSAR Processing via the SNAP GPT Python API called SNAPISTA.\n",
    "\n",
    "Appears to have some issues for some operators. Is also quite slow."
   ]
  },
  {
   "cell_type": "code",
   "execution_count": 1,
   "metadata": {},
   "outputs": [
    {
     "name": "stderr",
     "output_type": "stream",
     "text": [
      "INFO: org.esa.snap.core.gpf.operators.tooladapter.ToolAdapterIO: Initializing external tool adapters\n",
      "INFO: org.esa.s2tbx.dataio.gdal.GDALVersion: Incompatible GDAL 3.6.2 found on system. Internal GDAL 3.0.0 from distribution will be used.\n",
      "INFO: org.esa.s2tbx.dataio.gdal.GDALVersion: Internal GDAL 3.0.0 set to be used by SNAP.\n",
      "INFO: org.esa.snap.core.util.EngineVersionCheckActivator: Please check regularly for new updates for the best SNAP experience.\n",
      "WARNING: org.esa.snap.core.util.EngineVersionCheckActivator: A new SNAP version is available for download.\n",
      "Currently installed 8.0, available is 9.0.0.\n",
      "Please visit http://step.esa.int\n",
      "\n"
     ]
    }
   ],
   "source": [
    "import snapista\n",
    "from snapista import Operator, OperatorParams, Graph\n",
    "from pathlib import Path"
   ]
  },
  {
   "cell_type": "code",
   "execution_count": 3,
   "metadata": {},
   "outputs": [],
   "source": [
    "########################\n",
    "# USER CONFIG\n",
    "# Specify the Input Filepaths\n",
    "work_dir = Path('/data/S1_InSAR_Juukan/')\n",
    "\n",
    "# NOTE: READ THE FILES IN CHRONOLOGICAL ORDER (OLDEST FIRST)\n",
    "filepath_1 = Path(work_dir, 'data_raw', 'S1B_IW_SLC__1SDV_20200516T213951_20200516T214019_021612_029081_ACBD.zip')\n",
    "filepath_2 = Path(work_dir, 'data_raw', 'S1B_IW_SLC__1SDV_20200528T213952_20200528T214019_021787_0295B1_17C1.zip')\n"
   ]
  },
  {
   "cell_type": "code",
   "execution_count": 4,
   "metadata": {},
   "outputs": [],
   "source": [
    "########################\n",
    "# DO NOT MODIFY\n",
    "# Constructing Additional Directories\n",
    "work_dir.mkdir(exist_ok=True, parents=True)\n",
    "\n",
    "temp_dir = Path(work_dir, \"Temp_SNAPISTA\")\n",
    "temp_dir.mkdir(exist_ok=True, parents=True)\n",
    "\n",
    "# Specifying Output Filepaths\n",
    "pre_snaphu_path = Path(\n",
    "    temp_dir,\n",
    "    f\"{filepath_1.stem[:25]}_{filepath_2.stem[33:41]}_ELEVATION_split_Orb_Stack_esd_ifg_deb_flt.dim\",\n",
    ")\n",
    "snaphu_export_path = Path(temp_dir, f'{filepath_1.stem}_Orb_Stack_Ifg_Deb_Flt')\n",
    "processed_product_path = Path(work_dir, f\"{pre_snaphu_path.stem}_unw_dem_tc.dim\")"
   ]
  },
  {
   "attachments": {},
   "cell_type": "markdown",
   "metadata": {},
   "source": [
    "# Pre-SNAPHU Processing"
   ]
  },
  {
   "cell_type": "code",
   "execution_count": 5,
   "metadata": {},
   "outputs": [],
   "source": [
    "# Process Read 1\n",
    "read_1 = Operator(\"Read\", file=str(filepath_1))\n",
    "\n",
    "topsar_split_1 = Operator(\n",
    "    \"TOPSAR-Split\",\n",
    "    subswath=\"IW2\",\n",
    "    selectedPolarisations=\"VV\",\n",
    "    firstBurstIndex=\"3\",\n",
    "    lastBurstIndex=\"5\",\n",
    ")\n",
    "\n",
    "orbit_1 = Operator(\"Apply-Orbit-File\", orbitType=\"Sentinel Precise (Auto Download)\")\n"
   ]
  },
  {
   "cell_type": "code",
   "execution_count": 6,
   "metadata": {},
   "outputs": [],
   "source": [
    "# Process Read 2\n",
    "read_2 = Operator(\"Read\", file=str(filepath_2))\n",
    "\n",
    "topsar_split_2 = Operator(\n",
    "    \"TOPSAR-Split\",\n",
    "    subswath=\"IW2\",\n",
    "    selectedPolarisations=\"VV\",\n",
    "    firstBurstIndex=\"1\",\n",
    "    lastBurstIndex=\"3\",\n",
    ")\n",
    "\n",
    "orbit_2 = Operator(\"Apply-Orbit-File\", orbitType=\"Sentinel Precise (Auto Download)\")\n"
   ]
  },
  {
   "cell_type": "code",
   "execution_count": 7,
   "metadata": {},
   "outputs": [],
   "source": [
    "# Coregistration\n",
    "back_geocoding = Operator(\"Back-Geocoding\", demName=\"SRTM 1Sec HGT\")\n",
    "\n",
    "enhanced_spectral_diversity = Operator(\"Enhanced-Spectral-Diversity\")\n",
    "\n",
    "# Interferogram\n",
    "interferogram = Operator(\n",
    "    \"Interferogram\",\n",
    "    subtractFlatEarthPhase=\"true\",\n",
    "    subtractTopographicPhase=\"false\",\n",
    "    includeCoherence=\"true\",\n",
    "    demName=\"SRTM 1Sec HGT\",\n",
    ")\n",
    "\n",
    "# TOPS Deburst\n",
    "tops_deburst = Operator(\"TOPSAR-Deburst\")\n",
    "\n",
    "# Goldstein Filtering\n",
    "goldstein_filtering = Operator(\"GoldsteinPhaseFiltering\")\n",
    "\n",
    "# Multilooking\n",
    "multilook = Operator(\"Multilook\")"
   ]
  },
  {
   "cell_type": "code",
   "execution_count": 8,
   "metadata": {},
   "outputs": [],
   "source": [
    "# SNAPHU EXPORT\n",
    "snaphu_export = Operator(\n",
    "    \"SnaphuExport\",\n",
    "    targetFolder=str(temp_dir),\n",
    "    statCostMode=\"TOPO\",\n",
    "    initMethod=\"MCF\",\n",
    "    numberOfProcessors=\"8\",\n",
    ")"
   ]
  },
  {
   "cell_type": "code",
   "execution_count": 9,
   "metadata": {},
   "outputs": [],
   "source": [
    "# Write Pre-SNAPHU File\n",
    "write_presnaphu = Operator(\"Write\", file=str(pre_snaphu_path), formatName=\"BEAM-DIMAP\")"
   ]
  },
  {
   "cell_type": "code",
   "execution_count": 10,
   "metadata": {},
   "outputs": [],
   "source": [
    "g = Graph()\n",
    "\n",
    "# Process 1st Image\n",
    "g.add_node(operator=read_1, node_id=\"Read(1)\")\n",
    "\n",
    "g.add_node(operator=topsar_split_1, node_id=\"TOPSAR-Split(1)\", source=\"Read(1)\")\n",
    "\n",
    "g.add_node(operator=orbit_1, node_id=\"Apply-Orbit-File(1)\", source=\"TOPSAR-Split(1)\")\n",
    "\n",
    "# Process 2nd Image\n",
    "g.add_node(operator=read_2, node_id=\"Read(2)\")\n",
    "\n",
    "g.add_node(operator=topsar_split_2, node_id=\"TOPSAR-Split(2)\", source=\"Read(2)\")\n",
    "\n",
    "g.add_node(operator=orbit_2, node_id=\"Apply-Orbit-File(2)\", source=\"TOPSAR-Split(2)\")\n",
    "\n",
    "# Coregistration\n",
    "g.add_node(\n",
    "    operator=back_geocoding,\n",
    "    node_id=\"Back-Geocoding\",\n",
    "    source=[\"Apply-Orbit-File(1)\", \"Apply-Orbit-File(2)\"],\n",
    ")\n",
    "\n",
    "g.add_node(\n",
    "    operator=enhanced_spectral_diversity,\n",
    "    node_id=\"Enhanced-Spectral-Diversity\",\n",
    "    source=\"Back-Geocoding\",\n",
    ")\n",
    "\n",
    "# Interferogram Formation\n",
    "g.add_node(\n",
    "    operator=interferogram,\n",
    "    node_id=\"Interferogram\",\n",
    "    source=\"Enhanced-Spectral-Diversity\",\n",
    ")\n",
    "\n",
    "# TOPS Deburst\n",
    "g.add_node(operator=tops_deburst, node_id=\"TOPSAR-Deburst\", source=\"Interferogram\")\n",
    "\n",
    "# Goldstein Filtering\n",
    "g.add_node(\n",
    "    operator=goldstein_filtering,\n",
    "    node_id=\"GoldsteinPhaseFiltering\",\n",
    "    source=\"TOPSAR-Deburst\",\n",
    ")\n",
    "\n",
    "# Multilooking\n",
    "# g.add_node(operator=multilook, node_id=\"Multilook\", source=\"GoldsteinPhaseFiltering\")\n",
    "\n",
    "# SNAPHU Export\n",
    "g.add_node(operator=snaphu_export, node_id=\"SnaphuExport\", source=\"GoldsteinPhaseFiltering\")\n",
    "\n",
    "# Write Pre-SNAPHU-Processed Product\n",
    "g.add_node(operator=write_presnaphu, node_id=\"Write\", source=\"GoldsteinPhaseFiltering\")\n"
   ]
  },
  {
   "attachments": {},
   "cell_type": "markdown",
   "metadata": {},
   "source": [
    "Issue with Multilook not selecting ALL S1 Bands, only the first one.\n",
    "\n",
    "No easy way to extract all the band names with SNAPISTA.\n",
    "\n",
    "https://forum.step.esa.int/t/empty-sourcebands-does-not-select-all-s1-bands-in-snap-8-graphs/33961"
   ]
  },
  {
   "cell_type": "code",
   "execution_count": 11,
   "metadata": {},
   "outputs": [
    {
     "name": "stdout",
     "output_type": "stream",
     "text": [
      "<graph>\n",
      "  <version>1.0</version>\n",
      "  <node id=\"Read(1)\">\n",
      "    <operator>Read</operator>\n",
      "    <sources/>\n",
      "    <parameters class=\"com.bc.ceres.binding.dom.XppDomElement\">\n",
      "      <bandNames/>\n",
      "      <copyMetadata>true</copyMetadata>\n",
      "      <file>/data/S1_InSAR_Juukan/data_raw/S1B_IW_SLC__1SDV_20200516T213951_20200516T214019_021612_029081_ACBD.zip</file>\n",
      "      <formatName/>\n",
      "      <geometryRegion/>\n",
      "      <maskNames/>\n",
      "      <pixelRegion/>\n",
      "    </parameters>\n",
      "  </node>\n",
      "  <node id=\"TOPSAR-Split(1)\">\n",
      "    <operator>TOPSAR-Split</operator>\n",
      "    <sources>\n",
      "      <sourceProduct refid=\"Read(1)\"/>\n",
      "    </sources>\n",
      "    <parameters class=\"com.bc.ceres.binding.dom.XppDomElement\">\n",
      "      <firstBurstIndex>3</firstBurstIndex>\n",
      "      <lastBurstIndex>5</lastBurstIndex>\n",
      "      <selectedPolarisations>VV</selectedPolarisations>\n",
      "      <subswath>IW2</subswath>\n",
      "      <wktAoi/>\n",
      "    </parameters>\n",
      "  </node>\n",
      "  <node id=\"Apply-Orbit-File(1)\">\n",
      "    <operator>Apply-Orbit-File</operator>\n",
      "    <sources>\n",
      "      <sourceProduct refid=\"TOPSAR-Split(1)\"/>\n",
      "    </sources>\n",
      "    <parameters class=\"com.bc.ceres.binding.dom.XppDomElement\">\n",
      "      <continueOnFail>false</continueOnFail>\n",
      "      <orbitType>Sentinel Precise (Auto Download)</orbitType>\n",
      "      <polyDegree>3</polyDegree>\n",
      "    </parameters>\n",
      "  </node>\n",
      "  <node id=\"Read(2)\">\n",
      "    <operator>Read</operator>\n",
      "    <sources/>\n",
      "    <parameters class=\"com.bc.ceres.binding.dom.XppDomElement\">\n",
      "      <bandNames/>\n",
      "      <copyMetadata>true</copyMetadata>\n",
      "      <file>/data/S1_InSAR_Juukan/data_raw/S1B_IW_SLC__1SDV_20200528T213952_20200528T214019_021787_0295B1_17C1.zip</file>\n",
      "      <formatName/>\n",
      "      <geometryRegion/>\n",
      "      <maskNames/>\n",
      "      <pixelRegion/>\n",
      "    </parameters>\n",
      "  </node>\n",
      "  <node id=\"TOPSAR-Split(2)\">\n",
      "    <operator>TOPSAR-Split</operator>\n",
      "    <sources>\n",
      "      <sourceProduct refid=\"Read(2)\"/>\n",
      "    </sources>\n",
      "    <parameters class=\"com.bc.ceres.binding.dom.XppDomElement\">\n",
      "      <firstBurstIndex>1</firstBurstIndex>\n",
      "      <lastBurstIndex>3</lastBurstIndex>\n",
      "      <selectedPolarisations>VV</selectedPolarisations>\n",
      "      <subswath>IW2</subswath>\n",
      "      <wktAoi/>\n",
      "    </parameters>\n",
      "  </node>\n",
      "  <node id=\"Apply-Orbit-File(2)\">\n",
      "    <operator>Apply-Orbit-File</operator>\n",
      "    <sources>\n",
      "      <sourceProduct refid=\"TOPSAR-Split(2)\"/>\n",
      "    </sources>\n",
      "    <parameters class=\"com.bc.ceres.binding.dom.XppDomElement\">\n",
      "      <continueOnFail>false</continueOnFail>\n",
      "      <orbitType>Sentinel Precise (Auto Download)</orbitType>\n",
      "      <polyDegree>3</polyDegree>\n",
      "    </parameters>\n",
      "  </node>\n",
      "  <node id=\"Back-Geocoding\">\n",
      "    <operator>Back-Geocoding</operator>\n",
      "    <sources>\n",
      "      <sourceProduct refid=\"Apply-Orbit-File(1)\"/>\n",
      "      <sourceProduct.1 refid=\"Apply-Orbit-File(2)\"/>\n",
      "    </sources>\n",
      "    <parameters class=\"com.bc.ceres.binding.dom.XppDomElement\">\n",
      "      <demName>SRTM 1Sec HGT</demName>\n",
      "      <demResamplingMethod>BICUBIC_INTERPOLATION</demResamplingMethod>\n",
      "      <disableReramp>false</disableReramp>\n",
      "      <externalDEMFile/>\n",
      "      <externalDEMNoDataValue>0</externalDEMNoDataValue>\n",
      "      <maskOutAreaWithoutElevation>true</maskOutAreaWithoutElevation>\n",
      "      <outputDerampDemodPhase>false</outputDerampDemodPhase>\n",
      "      <outputRangeAzimuthOffset>false</outputRangeAzimuthOffset>\n",
      "      <resamplingType>BISINC_5_POINT_INTERPOLATION</resamplingType>\n",
      "    </parameters>\n",
      "  </node>\n",
      "  <node id=\"Enhanced-Spectral-Diversity\">\n",
      "    <operator>Enhanced-Spectral-Diversity</operator>\n",
      "    <sources>\n",
      "      <sourceProduct refid=\"Back-Geocoding\"/>\n",
      "    </sources>\n",
      "    <parameters class=\"com.bc.ceres.binding.dom.XppDomElement\">\n",
      "      <cohThreshold>0.3</cohThreshold>\n",
      "      <doNotWriteTargetBands>false</doNotWriteTargetBands>\n",
      "      <esdEstimator>Periodogram</esdEstimator>\n",
      "      <fineWinAccAzimuth>16</fineWinAccAzimuth>\n",
      "      <fineWinAccRange>16</fineWinAccRange>\n",
      "      <fineWinHeightStr>512</fineWinHeightStr>\n",
      "      <fineWinOversampling>128</fineWinOversampling>\n",
      "      <fineWinWidthStr>512</fineWinWidthStr>\n",
      "      <integrationMethod>L1 and L2</integrationMethod>\n",
      "      <maxTemporalBaseline>4</maxTemporalBaseline>\n",
      "      <numBlocksPerOverlap>10</numBlocksPerOverlap>\n",
      "      <overallAzimuthShift>0.0</overallAzimuthShift>\n",
      "      <overallRangeShift>0.0</overallRangeShift>\n",
      "      <temporalBaselineType>Number of images</temporalBaselineType>\n",
      "      <useSuppliedAzimuthShift>false</useSuppliedAzimuthShift>\n",
      "      <useSuppliedRangeShift>false</useSuppliedRangeShift>\n",
      "      <weightFunc>Inv Quadratic</weightFunc>\n",
      "      <xCorrThreshold>0.1</xCorrThreshold>\n",
      "    </parameters>\n",
      "  </node>\n",
      "  <node id=\"Interferogram\">\n",
      "    <operator>Interferogram</operator>\n",
      "    <sources>\n",
      "      <sourceProduct refid=\"Enhanced-Spectral-Diversity\"/>\n",
      "    </sources>\n",
      "    <parameters class=\"com.bc.ceres.binding.dom.XppDomElement\">\n",
      "      <cohWinAz>10</cohWinAz>\n",
      "      <cohWinRg>10</cohWinRg>\n",
      "      <demName>SRTM 1Sec HGT</demName>\n",
      "      <externalDEMApplyEGM>true</externalDEMApplyEGM>\n",
      "      <externalDEMFile/>\n",
      "      <externalDEMNoDataValue>0</externalDEMNoDataValue>\n",
      "      <includeCoherence>true</includeCoherence>\n",
      "      <orbitDegree>3</orbitDegree>\n",
      "      <outputElevation>false</outputElevation>\n",
      "      <outputLatLon>false</outputLatLon>\n",
      "      <squarePixel>true</squarePixel>\n",
      "      <srpNumberPoints>501</srpNumberPoints>\n",
      "      <srpPolynomialDegree>5</srpPolynomialDegree>\n",
      "      <subtractFlatEarthPhase>true</subtractFlatEarthPhase>\n",
      "      <subtractTopographicPhase>false</subtractTopographicPhase>\n",
      "      <tileExtensionPercent>100</tileExtensionPercent>\n",
      "    </parameters>\n",
      "  </node>\n",
      "  <node id=\"TOPSAR-Deburst\">\n",
      "    <operator>TOPSAR-Deburst</operator>\n",
      "    <sources>\n",
      "      <sourceProduct refid=\"Interferogram\"/>\n",
      "    </sources>\n",
      "    <parameters class=\"com.bc.ceres.binding.dom.XppDomElement\">\n",
      "      <selectedPolarisations/>\n",
      "    </parameters>\n",
      "  </node>\n",
      "  <node id=\"GoldsteinPhaseFiltering\">\n",
      "    <operator>GoldsteinPhaseFiltering</operator>\n",
      "    <sources>\n",
      "      <sourceProduct refid=\"TOPSAR-Deburst\"/>\n",
      "    </sources>\n",
      "    <parameters class=\"com.bc.ceres.binding.dom.XppDomElement\">\n",
      "      <FFTSizeString>64</FFTSizeString>\n",
      "      <alpha>1.0</alpha>\n",
      "      <coherenceThreshold>0.2</coherenceThreshold>\n",
      "      <useCoherenceMask>false</useCoherenceMask>\n",
      "      <windowSizeString>3</windowSizeString>\n",
      "    </parameters>\n",
      "  </node>\n",
      "  <node id=\"SnaphuExport\">\n",
      "    <operator>SnaphuExport</operator>\n",
      "    <sources>\n",
      "      <sourceProduct refid=\"GoldsteinPhaseFiltering\"/>\n",
      "    </sources>\n",
      "    <parameters class=\"com.bc.ceres.binding.dom.XppDomElement\">\n",
      "      <colOverlap>200</colOverlap>\n",
      "      <initMethod>MCF</initMethod>\n",
      "      <numberOfProcessors>8</numberOfProcessors>\n",
      "      <numberOfTileCols>10</numberOfTileCols>\n",
      "      <numberOfTileRows>10</numberOfTileRows>\n",
      "      <rowOverlap>200</rowOverlap>\n",
      "      <statCostMode>TOPO</statCostMode>\n",
      "      <targetFolder>/data/S1_InSAR_Juukan/Temp_SNAPISTA</targetFolder>\n",
      "      <tileCostThreshold>500</tileCostThreshold>\n",
      "    </parameters>\n",
      "  </node>\n",
      "  <node id=\"Write\">\n",
      "    <operator>Write</operator>\n",
      "    <sources>\n",
      "      <sourceProduct refid=\"GoldsteinPhaseFiltering\"/>\n",
      "    </sources>\n",
      "    <parameters class=\"com.bc.ceres.binding.dom.XppDomElement\">\n",
      "      <clearCacheAfterRowWrite>false</clearCacheAfterRowWrite>\n",
      "      <deleteOutputOnFailure>true</deleteOutputOnFailure>\n",
      "      <file>/data/S1_InSAR_Juukan/Temp_SNAPISTA/S1B_IW_SLC__1SDV_20200516_20200528_ELEVATION_split_Orb_Stack_esd_ifg_deb_flt_ML.dim</file>\n",
      "      <formatName>BEAM-DIMAP</formatName>\n",
      "      <writeEntireTileRows>false</writeEntireTileRows>\n",
      "    </parameters>\n",
      "  </node>\n",
      "</graph>\n",
      "\n"
     ]
    }
   ],
   "source": [
    "g.view()\n"
   ]
  },
  {
   "cell_type": "code",
   "execution_count": 12,
   "metadata": {},
   "outputs": [
    {
     "name": "stdout",
     "output_type": "stream",
     "text": [
      "Processing the graph\n",
      "Executing processing graph\n",
      "INFO: org.esa.snap.core.gpf.operators.tooladapter.ToolAdapterIO: Initializing external tool adapters\n",
      "....10%....20%....30%....40%....50%....60%....70%....80%....90% done.\n",
      "INFO: org.esa.s2tbx.dataio.gdal.GDALVersion: Incompatible GDAL 3.6.2 found on system. Internal GDAL 3.0.0 from distribution will be used.\n",
      "INFO: org.esa.s2tbx.dataio.gdal.GDALVersion: Internal GDAL 3.0.0 set to be used by SNAP.\n",
      "INFO: org.esa.snap.core.util.EngineVersionCheckActivator: Please check regularly for new updates for the best SNAP experience.\n",
      "WARNING: org.esa.snap.core.util.EngineVersionCheckActivator: A new SNAP version is available for download.\n",
      "Currently installed 8.0, available is 9.0.0.\n",
      "Please visit http://step.esa.int\n",
      "\n",
      "INFO: org.esa.s2tbx.dataio.gdal.GDALVersion: Internal GDAL 3.0.0 set to be used by SNAP.\n",
      "INFO: org.hsqldb.persist.Logger: dataFileCache open start\n",
      "INFO: org.esa.s1tbx.sentinel1.gpf.SpectralDiversityOp: Shifts written to file: /home/ubuntu/mambaforge/envs/snap-8/snap/.snap/var/log/IW2_range_shifts.json\n",
      "INFO: org.esa.s1tbx.sentinel1.gpf.SpectralDiversityOp: Estimating azimuth offset for blocks in overlap: 1/2\n",
      "INFO: org.esa.s1tbx.sentinel1.gpf.SpectralDiversityOp: Estimating azimuth offset for blocks in overlap: 2/2\n",
      "WARNING: org.esa.s1tbx.sentinel1.gpf.SpectralDiversityOp: NetworkESD (azimuth shift): arc = IW2_VV_mst_16May2020_IW2_VV_slv1_28May2020 overlap area = 1, weight for this overlap is 0.0\n",
      "INFO: org.esa.s1tbx.sentinel1.gpf.SpectralDiversityOp: Shifts written to file: /home/ubuntu/mambaforge/envs/snap-8/snap/.snap/var/log/IW2_azimuth_shifts.json\n",
      "-- org.jblas INFO Deleting /tmp/jblas8694985265877530297/libquadmath-0.so\n",
      "-- org.jblas INFO Deleting /tmp/jblas8694985265877530297/libgfortran-4.so\n",
      "-- org.jblas INFO Deleting /tmp/jblas8694985265877530297/libjblas_arch_flavor.so\n",
      "-- org.jblas INFO Deleting /tmp/jblas8694985265877530297/libjblas.so\n",
      "-- org.jblas INFO Deleting /tmp/jblas8694985265877530297\n"
     ]
    },
    {
     "data": {
      "text/plain": [
       "0"
      ]
     },
     "execution_count": 12,
     "metadata": {},
     "output_type": "execute_result"
    }
   ],
   "source": [
    "g.run()"
   ]
  },
  {
   "attachments": {},
   "cell_type": "markdown",
   "metadata": {},
   "source": [
    "# SNAPHU Unwrapping"
   ]
  },
  {
   "cell_type": "code",
   "execution_count": 5,
   "metadata": {},
   "outputs": [
    {
     "name": "stdout",
     "output_type": "stream",
     "text": [
      "\n",
      "snaphu v2.0.5\n",
      "27 parameters input from file snaphu.conf (84 lines total)\n"
     ]
    },
    {
     "name": "stderr",
     "output_type": "stream",
     "text": [
      "WARNING: Tile overlap is small (may give bad results)\n"
     ]
    },
    {
     "name": "stdout",
     "output_type": "stream",
     "text": [
      "Logging run-time parameters to file snaphu.log\n",
      "Creating temporary directory snaphu_tiles_248900\n",
      "Unwrapping tile at row 0, column 0 (pid 248901)\n",
      "Unwrapping tile at row 0, column 1 (pid 248902)\n",
      "Unwrapping tile at row 0, column 2 (pid 248906)\n",
      "Unwrapping tile at row 0, column 3 (pid 248908)\n",
      "Unwrapping tile at row 0, column 4 (pid 248909)\n",
      "Unwrapping tile at row 0, column 5 (pid 248910)\n",
      "Unwrapping tile at row 0, column 6 (pid 248911)\n"
     ]
    }
   ],
   "source": [
    "import sys\n",
    "sys.path.append('..')\n",
    "from src.processing_utils import snaphu_unwrapping\n",
    "\n",
    "snaphu_unwrapping(filepath=snaphu_export_path)"
   ]
  },
  {
   "attachments": {},
   "cell_type": "markdown",
   "metadata": {},
   "source": [
    "# Post SNAPHU Processing"
   ]
  },
  {
   "cell_type": "code",
   "execution_count": null,
   "metadata": {},
   "outputs": [],
   "source": [
    "g2 = Graph()"
   ]
  },
  {
   "cell_type": "code",
   "execution_count": null,
   "metadata": {},
   "outputs": [],
   "source": []
  },
  {
   "cell_type": "code",
   "execution_count": 28,
   "metadata": {},
   "outputs": [],
   "source": [
    "filepath = Path(\n",
    "    \"/scratch/InSAR_data/\",\n",
    "    \"S1B_IW_SLC__1SDV_20190702_20190708_split_Orb_Stack_esd_ifg_deb_flt_ML.dim\",\n",
    ")\n",
    "snaphu_export_path = Path(\"/scratch/InSAR_data/SNAPHU_Temp\")\n"
   ]
  },
  {
   "cell_type": "code",
   "execution_count": 29,
   "metadata": {},
   "outputs": [],
   "source": [
    "read = Operator(\n",
    "    \"Read\", file=str(filepath), formatName=\"BEAM-DIMAP\", copyMetadata=\"true\"\n",
    ")\n",
    "\n",
    "snaphu_export = Operator(\n",
    "    \"SnaphuExport\",\n",
    "    targetFolder=str(snaphu_export_path),\n",
    "    statCostMode=\"TOPO\",\n",
    "    initMethod=\"MCF\",\n",
    "    numberOfProcessors=\"8\",\n",
    ")\n"
   ]
  },
  {
   "cell_type": "code",
   "execution_count": 30,
   "metadata": {},
   "outputs": [
    {
     "name": "stdout",
     "output_type": "stream",
     "text": [
      "<graph>\n",
      "  <version>1.0</version>\n",
      "  <node id=\"Read\">\n",
      "    <operator>Read</operator>\n",
      "    <sources/>\n",
      "    <parameters class=\"com.bc.ceres.binding.dom.XppDomElement\">\n",
      "      <bandNames/>\n",
      "      <copyMetadata>true</copyMetadata>\n",
      "      <file>/scratch/InSAR_data/S1B_IW_SLC__1SDV_20190702_20190708_split_Orb_Stack_esd_ifg_deb_flt_ML.dim</file>\n",
      "      <formatName>BEAM-DIMAP</formatName>\n",
      "      <geometryRegion/>\n",
      "      <maskNames/>\n",
      "      <pixelRegion/>\n",
      "    </parameters>\n",
      "  </node>\n",
      "  <node id=\"SNAPHU-Export\">\n",
      "    <operator>SnaphuExport</operator>\n",
      "    <sources>\n",
      "      <sourceProduct refid=\"Read\"/>\n",
      "    </sources>\n",
      "    <parameters class=\"com.bc.ceres.binding.dom.XppDomElement\">\n",
      "      <colOverlap>200</colOverlap>\n",
      "      <initMethod>MCF</initMethod>\n",
      "      <numberOfProcessors>8</numberOfProcessors>\n",
      "      <numberOfTileCols>10</numberOfTileCols>\n",
      "      <numberOfTileRows>10</numberOfTileRows>\n",
      "      <rowOverlap>200</rowOverlap>\n",
      "      <statCostMode>TOPO</statCostMode>\n",
      "      <targetFolder>/scratch/InSAR_data/SNAPHU_Temp</targetFolder>\n",
      "      <tileCostThreshold>500</tileCostThreshold>\n",
      "    </parameters>\n",
      "  </node>\n",
      "</graph>\n",
      "\n"
     ]
    }
   ],
   "source": [
    "g_new = Graph()\n",
    "\n",
    "g_new.add_node(operator=read, node_id=\"Read\")\n",
    "\n",
    "g_new.add_node(operator=snaphu_export, node_id=\"SNAPHU-Export\", source=\"Read\")\n",
    "\n",
    "g_new.view()\n"
   ]
  },
  {
   "cell_type": "code",
   "execution_count": 31,
   "metadata": {},
   "outputs": [
    {
     "name": "stdout",
     "output_type": "stream",
     "text": [
      "Processing the graph\n",
      "Executing processing graph\n",
      "INFO: org.esa.snap.core.gpf.operators.tooladapter.ToolAdapterIO: Initializing external tool adapters\n"
     ]
    },
    {
     "ename": "KeyboardInterrupt",
     "evalue": "",
     "output_type": "error",
     "traceback": [
      "\u001b[0;31m---------------------------------------------------------------------------\u001b[0m",
      "\u001b[0;31mKeyboardInterrupt\u001b[0m                         Traceback (most recent call last)",
      "Cell \u001b[0;32mIn[31], line 1\u001b[0m\n\u001b[0;32m----> 1\u001b[0m g_new\u001b[39m.\u001b[39;49mrun()\n",
      "File \u001b[0;32m~/mambaforge/lib/python3.9/site-packages/snapista-0.2.0-py3.9.egg/snapista/graph.py:422\u001b[0m, in \u001b[0;36mGraph.run\u001b[0;34m(self, gpt_options)\u001b[0m\n\u001b[1;32m    418\u001b[0m     \u001b[39mself\u001b[39m\u001b[39m.\u001b[39msave_graph(filename\u001b[39m=\u001b[39mpath)\n\u001b[1;32m    420\u001b[0m     options \u001b[39m=\u001b[39m [\u001b[39mself\u001b[39m\u001b[39m.\u001b[39mgpt_path, \u001b[39m*\u001b[39mgpt_options, path]\n\u001b[0;32m--> 422\u001b[0m     rc \u001b[39m=\u001b[39m _run_command(options)\n\u001b[1;32m    424\u001b[0m \u001b[39mfinally\u001b[39;00m:\n\u001b[1;32m    426\u001b[0m     os\u001b[39m.\u001b[39mremove(path)\n",
      "File \u001b[0;32m~/mambaforge/lib/python3.9/site-packages/snapista-0.2.0-py3.9.egg/snapista/graph.py:396\u001b[0m, in \u001b[0;36mGraph.run.<locals>._run_command\u001b[0;34m(command, **kwargs)\u001b[0m\n\u001b[1;32m    394\u001b[0m process \u001b[39m=\u001b[39m subprocess\u001b[39m.\u001b[39mPopen(args\u001b[39m=\u001b[39mcommand, stdout\u001b[39m=\u001b[39msubprocess\u001b[39m.\u001b[39mPIPE, stderr\u001b[39m=\u001b[39msubprocess\u001b[39m.\u001b[39mPIPE,  \u001b[39m*\u001b[39m\u001b[39m*\u001b[39mkwargs)\n\u001b[1;32m    395\u001b[0m \u001b[39mwhile\u001b[39;00m \u001b[39mTrue\u001b[39;00m:\n\u001b[0;32m--> 396\u001b[0m     output \u001b[39m=\u001b[39m process\u001b[39m.\u001b[39;49mstdout\u001b[39m.\u001b[39;49mreadline()\n\u001b[1;32m    397\u001b[0m     err \u001b[39m=\u001b[39m process\u001b[39m.\u001b[39mstderr\u001b[39m.\u001b[39mreadline()\n\u001b[1;32m    398\u001b[0m     \u001b[39mif\u001b[39;00m output\u001b[39m.\u001b[39mdecode() \u001b[39m==\u001b[39m \u001b[39m\"\u001b[39m\u001b[39m\"\u001b[39m \u001b[39mand\u001b[39;00m process\u001b[39m.\u001b[39mpoll() \u001b[39mis\u001b[39;00m \u001b[39mnot\u001b[39;00m \u001b[39mNone\u001b[39;00m:\n",
      "\u001b[0;31mKeyboardInterrupt\u001b[0m: "
     ]
    }
   ],
   "source": [
    "g_new.run()\n"
   ]
  },
  {
   "cell_type": "code",
   "execution_count": null,
   "metadata": {},
   "outputs": [],
   "source": []
  }
 ],
 "metadata": {
  "kernelspec": {
   "display_name": "snap-7",
   "language": "python",
   "name": "python3"
  },
  "language_info": {
   "codemirror_mode": {
    "name": "ipython",
    "version": 3
   },
   "file_extension": ".py",
   "mimetype": "text/x-python",
   "name": "python",
   "nbconvert_exporter": "python",
   "pygments_lexer": "ipython3",
   "version": "3.9.16"
  },
  "orig_nbformat": 4,
  "vscode": {
   "interpreter": {
    "hash": "e76db5a3032cc9a447689c8d52a682282c96af9370a543fc7a13ee5c942790e2"
   }
  }
 },
 "nbformat": 4,
 "nbformat_minor": 2
}
